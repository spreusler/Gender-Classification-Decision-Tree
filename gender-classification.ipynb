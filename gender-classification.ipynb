{
 "cells": [
  {
   "cell_type": "code",
   "execution_count": 1,
   "metadata": {},
   "outputs": [
    {
     "name": "stdout",
     "output_type": "stream",
     "text": [
      "['male']\n"
     ]
    }
   ],
   "source": [
    "# Import Entscheidungsbaum\n",
    "from sklearn import tree\n",
    "\n",
    "# Erzeugung eines Objekts\n",
    "clf = tree.DecisionTreeClassifier()\n",
    "\n",
    "# Erzeugung mehrer Listen mit Größe, Gewicht und Schuhgröße einer Person\n",
    "X = [[181, 80, 44], [177, 70, 43], [160, 60, 38], [154, 54, 37], [166, 65, 40],\n",
    "     [190, 90, 47], [175, 64, 39],\n",
    "     [177, 70, 40], [159, 55, 37], [171, 75, 42], [181, 85, 43]]\n",
    "\n",
    "# Geschlechtsdeklaration\n",
    "Y = ['male', 'male', 'female', 'female', 'male', 'male', 'female', 'female',\n",
    "     'female', 'male', 'male']\n",
    "\n",
    "\n",
    "# Zuweisung und Training der Daten auf Entscheidungsbaum\n",
    "clf = clf.fit(X, Y)\n",
    "\n",
    "# Vorhersage für eine Person, die 190cm groß ist, 70kg wiegt und Schuhgröße 43 hat\n",
    "prediction = clf.predict([[190, 70, 43]])\n",
    "\n",
    "# Ausgabe der Vorhersage\n",
    "print(prediction)"
   ]
  }
 ],
 "metadata": {
  "kernelspec": {
   "display_name": "Python 2",
   "language": "python",
   "name": "python2"
  },
  "language_info": {
   "codemirror_mode": {
    "name": "ipython",
    "version": 2
   },
   "file_extension": ".py",
   "mimetype": "text/x-python",
   "name": "python",
   "nbconvert_exporter": "python",
   "pygments_lexer": "ipython2",
   "version": "2.7.14"
  }
 },
 "nbformat": 4,
 "nbformat_minor": 2
}
